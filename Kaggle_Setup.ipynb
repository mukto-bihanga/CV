{
  "nbformat": 4,
  "nbformat_minor": 0,
  "metadata": {
    "colab": {
      "name": "Kaggle_Setup.ipynb",
      "provenance": [],
      "authorship_tag": "ABX9TyOzGoOkPD2FSbMImDY+jbXa"
    },
    "kernelspec": {
      "name": "python3",
      "display_name": "Python 3"
    },
    "accelerator": "GPU"
  },
  "cells": [
    {
      "cell_type": "code",
      "metadata": {
        "id": "kq03hzYWE9UB",
        "colab_type": "code",
        "colab": {
          "base_uri": "https://localhost:8080/",
          "height": 196
        },
        "outputId": "670cdb85-c21a-4686-842b-651f57e2d853"
      },
      "source": [
        "!pip install kaggle"
      ],
      "execution_count": 3,
      "outputs": [
        {
          "output_type": "stream",
          "text": [
            "Requirement already satisfied: kaggle in /usr/local/lib/python3.6/dist-packages (1.5.6)\n",
            "Requirement already satisfied: certifi in /usr/local/lib/python3.6/dist-packages (from kaggle) (2020.4.5.1)\n",
            "Requirement already satisfied: python-dateutil in /usr/local/lib/python3.6/dist-packages (from kaggle) (2.8.1)\n",
            "Requirement already satisfied: urllib3<1.25,>=1.21.1 in /usr/local/lib/python3.6/dist-packages (from kaggle) (1.24.3)\n",
            "Requirement already satisfied: requests in /usr/local/lib/python3.6/dist-packages (from kaggle) (2.23.0)\n",
            "Requirement already satisfied: six>=1.10 in /usr/local/lib/python3.6/dist-packages (from kaggle) (1.12.0)\n",
            "Requirement already satisfied: tqdm in /usr/local/lib/python3.6/dist-packages (from kaggle) (4.41.1)\n",
            "Requirement already satisfied: python-slugify in /usr/local/lib/python3.6/dist-packages (from kaggle) (4.0.0)\n",
            "Requirement already satisfied: idna<3,>=2.5 in /usr/local/lib/python3.6/dist-packages (from requests->kaggle) (2.9)\n",
            "Requirement already satisfied: chardet<4,>=3.0.2 in /usr/local/lib/python3.6/dist-packages (from requests->kaggle) (3.0.4)\n",
            "Requirement already satisfied: text-unidecode>=1.3 in /usr/local/lib/python3.6/dist-packages (from python-slugify->kaggle) (1.3)\n"
          ],
          "name": "stdout"
        }
      ]
    },
    {
      "cell_type": "code",
      "metadata": {
        "id": "cQpv0oIAFhPs",
        "colab_type": "code",
        "colab": {}
      },
      "source": [
        "!mkdir .kaggle"
      ],
      "execution_count": 0,
      "outputs": []
    },
    {
      "cell_type": "code",
      "metadata": {
        "id": "dGyeFrI9F7_h",
        "colab_type": "code",
        "colab": {}
      },
      "source": [
        "\n",
        "import json\n",
        "token = {\"username\":\"muktobihanga\",\"key\":\"f49ffce5ae900918cc5046b6ab3a7031\"}\n",
        "with open('/content/.kaggle/kaggle.json', 'w') as file:\n",
        "    json.dump(token, file)"
      ],
      "execution_count": 0,
      "outputs": []
    },
    {
      "cell_type": "code",
      "metadata": {
        "id": "f2yhxDubGCRt",
        "colab_type": "code",
        "colab": {
          "base_uri": "https://localhost:8080/",
          "height": 33
        },
        "outputId": "c9eb4feb-5903-4896-f387-d643af23e037"
      },
      "source": [
        "!ls"
      ],
      "execution_count": 6,
      "outputs": [
        {
          "output_type": "stream",
          "text": [
            "sample_data\n"
          ],
          "name": "stdout"
        }
      ]
    },
    {
      "cell_type": "code",
      "metadata": {
        "id": "qgrwpFSrGSes",
        "colab_type": "code",
        "colab": {
          "base_uri": "https://localhost:8080/",
          "height": 33
        },
        "outputId": "af1a8b55-b13d-45e2-f0e5-fe2500543996"
      },
      "source": [
        "%cd .kaggle"
      ],
      "execution_count": 8,
      "outputs": [
        {
          "output_type": "stream",
          "text": [
            "/content/.kaggle\n"
          ],
          "name": "stdout"
        }
      ]
    },
    {
      "cell_type": "code",
      "metadata": {
        "id": "OpJQ_fBtGvKr",
        "colab_type": "code",
        "colab": {
          "base_uri": "https://localhost:8080/",
          "height": 33
        },
        "outputId": "f8d28e75-8cbb-421f-8b6c-0390fa140edd"
      },
      "source": [
        "!ls\n"
      ],
      "execution_count": 9,
      "outputs": [
        {
          "output_type": "stream",
          "text": [
            "kaggle.json\n"
          ],
          "name": "stdout"
        }
      ]
    },
    {
      "cell_type": "code",
      "metadata": {
        "id": "_HpphldhG6Aw",
        "colab_type": "code",
        "colab": {}
      },
      "source": [
        "!mkdir ~/.kaggle\n",
        "!cp /content/.kaggle/kaggle.json ~/.kaggle/kaggle.json"
      ],
      "execution_count": 0,
      "outputs": []
    },
    {
      "cell_type": "code",
      "metadata": {
        "id": "eJKg7MbTG9Xd",
        "colab_type": "code",
        "colab": {
          "base_uri": "https://localhost:8080/",
          "height": 50
        },
        "outputId": "0ba9f908-628a-46ab-cf45-7be1bf723356"
      },
      "source": [
        "!kaggle config set -n path -v{/content}"
      ],
      "execution_count": 11,
      "outputs": [
        {
          "output_type": "stream",
          "text": [
            "Warning: Your Kaggle API key is readable by other users on this system! To fix this, you can run 'chmod 600 /root/.kaggle/kaggle.json'\n",
            "- path is now set to: {/content}\n"
          ],
          "name": "stdout"
        }
      ]
    },
    {
      "cell_type": "code",
      "metadata": {
        "id": "4kerLPV3HDTH",
        "colab_type": "code",
        "colab": {}
      },
      "source": [
        "!chmod 600 /root/.kaggle/kaggle.json"
      ],
      "execution_count": 0,
      "outputs": []
    },
    {
      "cell_type": "code",
      "metadata": {
        "id": "B8lpnsB3HGxE",
        "colab_type": "code",
        "colab": {
          "base_uri": "https://localhost:8080/",
          "height": 391
        },
        "outputId": "5997ee19-fb9e-4ce1-d44a-47c6bdf914ef"
      },
      "source": [
        "!kaggle datasets list"
      ],
      "execution_count": 13,
      "outputs": [
        {
          "output_type": "stream",
          "text": [
            "Warning: Looks like you're using an outdated API Version, please consider updating (server 1.5.6 / client 1.5.4)\n",
            "ref                                                          title                                                size  lastUpdated          downloadCount  \n",
            "-----------------------------------------------------------  --------------------------------------------------  -----  -------------------  -------------  \n",
            "allen-institute-for-ai/CORD-19-research-challenge            COVID-19 Open Research Dataset Challenge (CORD-19)    3GB  2020-05-27 21:50:10          71785  \n",
            "roche-data-science-coalition/uncover                         UNCOVER COVID-19 Challenge                          179MB  2020-05-21 18:57:53          10483  \n",
            "ruchi798/tv-shows-on-netflix-prime-video-hulu-and-disney     TV shows on Netflix, Prime Video, Hulu and Disney+   88KB  2020-05-25 15:38:39             12  \n",
            "ruchi798/movies-on-netflix-prime-video-hulu-and-disney       Movies on Netflix, Prime Video, Hulu and Disney+    627KB  2020-05-22 23:48:01             47  \n",
            "ruchi798/malnutrition-across-the-globe                       Malnutrition across the globe                        79KB  2020-05-25 09:51:45             14  \n",
            "rmjacobsen/property-listings-for-5-south-american-countries  Property Listings for 5 South American Countries    475MB  2020-05-25 02:05:38              1  \n",
            "kushshah95/the-insurance-company-tic-benchmark               The Insurance Company (TIC) Benchmark               262KB  2020-05-27 16:36:41              1  \n",
            "stefanlarson/outofscope-intent-classification-dataset        Out-of-Scope Intent Classification Dataset          285KB  2020-05-15 03:04:34              1  \n",
            "kianwee/agricultural-raw-material-prices-19902020            Agricultural Raw Material prices (1990-2020)         23KB  2020-05-27 04:51:29              0  \n",
            "biancaferreira/african-wildlife                              African Wildlife                                    448MB  2020-05-25 13:42:19              2  \n",
            "yamaerenay/spotify-dataset-19212020-160k-tracks              Spotify Dataset 1921-2020, 160k+ Tracks              17MB  2020-05-25 11:31:07             24  \n",
            "siddharthm1698/coursera-course-dataset                       Coursera Course Dataset                              23KB  2020-05-25 05:52:27             10  \n",
            "gomes555/road-transport-brazil                               Road transport dataset in brazil                     62MB  2020-05-26 02:52:34              4  \n",
            "devinaconley/covid19-mobility-data                           COVID-19 Google mobility data                         4MB  2020-05-30 15:21:00              2  \n",
            "benroshan/factors-affecting-campus-placement                 Campus Recruitment                                    5KB  2020-04-11 11:09:02           5523  \n",
            "bobbyscience/league-of-legends-diamond-ranked-games-10-min   League of Legends Diamond Ranked Games (10 min)     539KB  2020-04-13 13:53:02           2542  \n",
            "fireballbyedimyrnmom/us-counties-covid-19-dataset            US counties COVID 19 dataset                          2MB  2020-05-31 13:17:45           7247  \n",
            "divyansh22/flight-delay-prediction                           January Flight Delay Prediction                      23MB  2020-04-14 13:15:41           1850  \n",
            "clmentbisaillon/fake-and-real-news-dataset                   Fake and real news dataset                           41MB  2020-03-26 18:51:15           4998  \n",
            "ikiulian/global-hospital-beds-capacity-for-covid19           Global Hospital Beds Capacity (for covid-19)        284KB  2020-04-26 09:39:35           2108  \n"
          ],
          "name": "stdout"
        }
      ]
    },
    {
      "cell_type": "code",
      "metadata": {
        "id": "9-MQIm-kHWe-",
        "colab_type": "code",
        "colab": {
          "base_uri": "https://localhost:8080/",
          "height": 391
        },
        "outputId": "cb5e5a62-3df4-4fa9-ed4f-3797d72bda3e"
      },
      "source": [
        "!kaggle datasets list -s flowers"
      ],
      "execution_count": 14,
      "outputs": [
        {
          "output_type": "stream",
          "text": [
            "Warning: Looks like you're using an outdated API Version, please consider updating (server 1.5.6 / client 1.5.4)\n",
            "ref                                             title                                        size  lastUpdated          downloadCount  \n",
            "----------------------------------------------  -----------------------------------------  ------  -------------------  -------------  \n",
            "alxmamaev/flowers-recognition                   Flowers Recognition                         450MB  2018-06-28 01:34:18          27374  \n",
            "mgornergoogle/five-flowers                      Five Flowers                               1013MB  2020-01-28 00:11:21             94  \n",
            "saidakbarp/17-category-flowers                  17 category flowers                          58MB  2018-10-15 22:01:34            681  \n",
            "cdeotte/oxford-flowers-tfrecords                Oxford Flowers TFRecords                      6GB  2020-03-12 16:20:14             52  \n",
            "msheriey/104-flowers-garden-of-eden             104 Flowers: Garden of Eden                   2GB  2020-02-15 18:30:09            214  \n",
            "arshid/iris-flower-dataset                      Iris Flower Dataset                         1010B  2018-03-22 15:18:06          16948  \n",
            "spaics/hackathon-blossom-flower-classification  Hackathon Blossom (Flower Classification)   318MB  2019-07-14 11:59:16            499  \n",
            "olgabelitskaya/flower-color-images              Flower Color Images                          23MB  2017-10-31 20:33:42           5192  \n",
            "ianmoone0617/flower-goggle-tpu-classification   Flower goggle tpu classification            264MB  2020-02-24 13:51:16            219  \n",
            "lenine/flower-102diffspecies-dataset            102 Flowers Diff Species DataSet            594MB  2018-12-26 16:53:44            261  \n",
            "msheriey/104-flowers-submissions                104 Flowers: Submissions                     52KB  2020-02-14 13:01:05             16  \n",
            "calebeverett/flowers-tpu-openimage-tfrecords    flowers-tpu-openimage-tfrecords               2GB  2020-04-15 20:57:28              4  \n",
            "calebeverett/flowers-tta                        flowers-tta                                  864B  2020-04-20 23:58:11              3  \n",
            "allenjie/flowers17                              Flowers-17                                  116MB  2019-07-24 09:16:04             34  \n",
            "gverzea/edible-wild-plants                      Edible wild plants                          766MB  2018-10-14 16:00:35           1073  \n",
            "vikrishnan/iris-dataset                         Iris Dataset                                 999B  2017-08-03 16:00:44           1450  \n",
            "jfromtheriverside/flowers                       flowers                                     558KB  2017-11-18 23:00:14             79  \n",
            "alimodd/flower-shop-dataset                     Flower Shop Dataset                           2KB  2018-11-22 12:34:31            181  \n",
            "aksha05/flower-image-dataset                    Flower Image Dataset                        363MB  2020-05-08 12:11:01              9  \n",
            "yjocho61/flowers                                flowers                                     230MB  2020-03-12 05:06:37              5  \n"
          ],
          "name": "stdout"
        }
      ]
    }
  ]
}